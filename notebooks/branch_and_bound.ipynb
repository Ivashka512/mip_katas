{
 "cells": [
  {
   "cell_type": "markdown",
   "metadata": {},
   "source": [
    "## Алгоритм ветвей и границ(branch and bound)\n",
    "\n",
    "Алгоритм ветвей и границ является одним из основных алгоритмов решения целочисленных проблем линейной оптимизации.\n",
    "\n",
    "Алгоритм заключается в последовательности следующих шагов:\n",
    "    \n",
    "    1. Решаем релаксационную задачу (root, node 0). Проверяем является ли решение вещественной задачи целочисленной. Если да, мы получили решение.\n",
    "    2. Выбираем вещественную переменную (TODO описать алгоритмы выбора переменных) и исходную задачу делим на две - $x \\geq \\lceil x\\rceil$ или $x \\leq \\lfloor x \\rfloor$. Таким образом исходную задачу мы можем представить в виде бинарного дерева.\n",
    "    3. Решаем задачу с добавленным ограничением. Если решение целочисленное оно становится действующим (Incumbent) оно таковым и останется до тех пор пока не будет найдено лучшее целочисленное решение. Кроме того, в случае задачи минимизации(максимизации) действующее решение является верхней(нижней) границей для оптимального решения. Это означает, что те ноды, решение в которых больше(меньше) можно не рассматривать, так как их обозрение не даст результата лучше чем действующий. (рис.1 показаны серым цветом)\n",
    "    4. Продолжаем поиск до тех пор пока решение не будет найдено.  \n",
    "    \n",
    "Описанный метод ветвей и границ можно удобно проиллюстрировать:\n",
    "\n",
    "![](\\.imgs\\BB.svg)\n",
    "\n",
    "За основу взят пример из учебника Sarker, Newton - Optimization Modeling.\n",
    "\n",
    "Кроме того, метод можно реализовать самостоятельно в демонстративных целях.\n",
    "\n",
    "Опишем путь ветвления(ROOT-NODE2-NODE3-NODE6), который приводит к оптимальному решению, согласно илюстрации.\n",
    "Каждый спуск по дереву добавляет к узлу новое ограничение.\n"
   ]
  },
  {
   "cell_type": "code",
   "execution_count": 5,
   "metadata": {},
   "outputs": [
    {
     "name": "stdout",
     "output_type": "stream",
     "text": [
      "ROOT 34.285714285714285 14.285714285714292 4285.714285714286\n",
      "NODE 2 34.0 14.666666666666666 4280.0\n",
      "NODE 3 33.75 15.0 4275.0\n",
      "NODE 6 33.0 16.0 4260.0\n"
     ]
    }
   ],
   "source": [
    "import pyomo.environ as pyo\n",
    "\n",
    "\n",
    "m = pyo.ConcreteModel('bb example')\n",
    "# сразу запишем релаксационную задачу до вещественной\n",
    "m.x1 = pyo.Var(within = pyo.NonNegativeReals)\n",
    "m.x2 = pyo.Var(within = pyo.NonNegativeReals)\n",
    "m.obj = pyo.Objective(expr = 100*m.x1 + 60*m.x2, sense=pyo.maximize)\n",
    "m.machining = pyo.Constraint(expr=5*m.x1 + 2*m.x2 <= 200)\n",
    "m.sanding = pyo.Constraint(expr=4*m.x1 + 3*m.x2 <= 180)\n",
    "m.assembly = pyo.Constraint(expr=3*m.x1 + 4*m.x2 <= 200)\n",
    "solver = pyo.SolverFactory('scip')\n",
    "result = solver.solve(m, tee=False)\n",
    "print('ROOT', pyo.value(m.x1,), pyo.value(m.x2), pyo.value(m.obj))\n",
    "# переход в NODE 2\n",
    "m.node2 = pyo.Constraint(expr=m.x1 <= 34)\n",
    "result = solver.solve(m, tee=False)\n",
    "print('NODE 2', pyo.value(m.x1,), pyo.value(m.x2), pyo.value(m.obj))\n",
    "# 34.0 14.6 4280.0\n",
    "# переход в NODE 3\n",
    "m.node3 = pyo.Constraint(expr=m.x2 >= 15)\n",
    "result = solver.solve(m, tee=False)\n",
    "print('NODE 3', pyo.value(m.x1,), pyo.value(m.x2), pyo.value(m.obj))\n",
    "# 33.75 15.9 4275.0\n",
    "# переход в NODE 6\n",
    "m.node4 = pyo.Constraint(expr=m.x1 <= 33)\n",
    "result = solver.solve(m, tee=False)\n",
    "print('NODE 6', pyo.value(m.x1,), pyo.value(m.x2), pyo.value(m.obj))\n",
    "# 33.75 15.9 4275.0"
   ]
  },
  {
   "cell_type": "markdown",
   "metadata": {},
   "source": [
    "Подобный лог можно увидеть если решать сразу целочисленную задачу решателем SCIP выключив все эвристики:"
   ]
  },
  {
   "cell_type": "code",
   "execution_count": 7,
   "metadata": {},
   "outputs": [
    {
     "name": "stdout",
     "output_type": "stream",
     "text": [
      "SCIP version 8.1.0 [precision: 8 byte] [memory: block] [mode: optimized] [LP solver: Soplex 6.0.4] [GitHash: 6129793871]\n",
      "Copyright (c) 2002-2023 Zuse Institute Berlin (ZIB)\n",
      "\n",
      "External libraries: \n",
      "  Soplex 6.0.4         Linear Programming Solver developed at Zuse Institute Berlin (soplex.zib.de) [GitHash: 950b1658]\n",
      "  CppAD 20180000.0     Algorithmic Differentiation of C++ algorithms developed by B. Bell (github.com/coin-or/CppAD)\n",
      "  ZLIB 1.2.13          General purpose compression library by J. Gailly and M. Adler (zlib.net)\n",
      "  MPIR 3.0.0           Multiple Precision Integers and Rationals Library developed by W. Hart (mpir.org)\n",
      "  ZIMPL 3.5.3          Zuse Institute Mathematical Programming Language developed by T. Koch (zimpl.zib.de)\n",
      "  AMPL/MP 4e2d45c4     AMPL .nl file reader library (github.com/ampl/mp)\n",
      "  PaPILO 2.1.4         parallel presolve for integer and linear optimization (github.com/scipopt/papilo) [GitHash: ee0677c4]\n",
      "  bliss 0.77           Computing Graph Automorphism Groups by T. Junttila and P. Kaski (https://users.aalto.fi/~tjunttil/bliss/)\n",
      "  Ipopt 3.14.14        Interior Point Optimizer developed by A. Waechter et.al. (github.com/coin-or/Ipopt)\n",
      "\n",
      "reading user parameter file <scip.set>\n",
      "===========================\n",
      "\n",
      "heuristics/farkasdiving/freq = -1\n",
      "heuristics/alns/freq = -1\n",
      "heuristics/oneopt/freq = -1\n",
      "heuristics/randrounding/freq = -1\n",
      "heuristics/rounding/freq = -1\n",
      "heuristics/shifting/freq = -1\n",
      "heuristics/simplerounding/freq = -1\n",
      "heuristics/vbounds/freq = -1\n",
      "\n",
      "read problem <C:\\Users\\bdrum\\AppData\\Local\\Temp\\tmp_i6edrmo.pyomo.nl>\n",
      "============\n",
      "\n",
      "original problem has 2 variables (0 bin, 2 int, 0 impl, 0 cont) and 3 constraints\n",
      "\n",
      "solve problem\n",
      "=============\n",
      "\n",
      "feasible solution found by trivial heuristic after 0.0 seconds, objective value 0.000000e+00\n",
      "presolving:\n",
      "(round 1, fast)       0 del vars, 0 del conss, 0 add conss, 4 chg bounds, 0 chg sides, 0 chg coeffs, 0 upgd conss, 0 impls, 0 clqs\n",
      "   (0.0s) running MILP presolver\n",
      "   (0.0s) MILP presolver found nothing\n",
      "(round 2, exhaustive) 0 del vars, 0 del conss, 0 add conss, 4 chg bounds, 0 chg sides, 0 chg coeffs, 3 upgd conss, 0 impls, 0 clqs\n",
      "   (0.0s) symmetry computation started: requiring (bin +, int +, cont +), (fixed: bin -, int -, cont -)\n",
      "   (0.0s) no symmetry present (symcode time: 0.00)\n",
      "presolving (3 rounds: 3 fast, 2 medium, 2 exhaustive):\n",
      " 0 deleted vars, 0 deleted constraints, 0 added constraints, 4 tightened bounds, 0 added holes, 0 changed sides, 0 changed coefficients\n",
      " 0 implications, 0 cliques\n",
      "presolved problem has 2 variables (0 bin, 2 int, 0 impl, 0 cont) and 3 constraints\n",
      "      3 constraints of type <varbound>\n",
      "transformed objective value is always integral (scale: 20)\n",
      "Presolving Time: 0.00\n",
      "transformed 1/1 original solutions to the transformed problem space\n",
      "\n",
      " time | node  | left  |LP iter|LP it/n|mem/heur|mdpt |vars |cons |rows |cuts |sepa|confs|strbr|  dualbound   | primalbound  |  gap   | compl. \n",
      "  0.0s|     1 |     0 |     2 |     - |   586k |   0 |   2 |   3 |   3 |   0 |  0 |   0 |   0 | 4.285714e+03 | 0.000000e+00 |    Inf | unknown\n",
      "  0.0s|     1 |     0 |     3 |     - |   589k |   0 |   2 |   3 |   4 |   1 |  1 |   0 |   0 | 4.280000e+03 | 0.000000e+00 |    Inf | unknown\n",
      "  0.0s|     1 |     0 |     4 |     - |   590k |   0 |   2 |   3 |   5 |   2 |  2 |   0 |   0 | 4.270769e+03 | 0.000000e+00 |    Inf | unknown\n",
      "  0.0s|     1 |     0 |     6 |     - |   590k |   0 |   2 |   3 |   6 |   3 |  3 |   0 |   0 | 4.260000e+03 | 0.000000e+00 |    Inf | unknown\n",
      "* 0.0s|     1 |     0 |     6 |     - |    LP  |   0 |   2 |   3 |   6 |   3 |  5 |   0 |   0 | 4.260000e+03 | 4.260000e+03 |   0.00%| unknown\n",
      "\n",
      "SCIP Status        : problem is solved [optimal solution found]\n",
      "Solving Time (sec) : 0.00\n",
      "Solving Nodes      : 1\n",
      "Primal Bound       : +4.26000000000000e+03 (2 solutions)\n",
      "Dual Bound         : +4.26000000000000e+03\n",
      "Gap                : 0.00 %\n"
     ]
    }
   ],
   "source": [
    "import pyomo.environ as pyo\n",
    "\n",
    "\n",
    "m = pyo.ConcreteModel('scip')\n",
    "m.x1 = pyo.Var(within = pyo.NonNegativeIntegers)\n",
    "m.x2 = pyo.Var(within = pyo.NonNegativeIntegers)\n",
    "m.obj = pyo.Objective(expr = 100*m.x1 + 60*m.x2, sense=pyo.maximize)\n",
    "m.machining = pyo.Constraint(expr=5*m.x1 + 2*m.x2 <= 200)\n",
    "m.sanding = pyo.Constraint(expr=4*m.x1 + 3*m.x2 <= 180)\n",
    "m.assembly = pyo.Constraint(expr=3*m.x1 + 4*m.x2 <= 200)\n",
    "solver = pyo.SolverFactory('scip')\n",
    "solver.options[\"heuristics/vbounds/freq\"] = \"-1\"\n",
    "solver.options[\"heuristics/oneopt/freq\"] = \"-1\"\n",
    "solver.options[\"heuristics/simplerounding/freq\"] = \"-1\"\n",
    "solver.options[\"heuristics/randrounding/freq\"] = \"-1\"\n",
    "solver.options[\"heuristics/rounding/freq\"] = \"-1\"\n",
    "solver.options[\"heuristics/shifting/freq\"] = \"-1\"\n",
    "solver.options[\"heuristics/farkasdiving/freq\"] = \"-1\"\n",
    "solver.options[\"heuristics/alns/freq\"] = \"-1\"\n",
    "\n",
    "\n",
    "result = solver.solve(m, tee=True)"
   ]
  },
  {
   "cell_type": "code",
   "execution_count": null,
   "metadata": {},
   "outputs": [],
   "source": []
  }
 ],
 "metadata": {
  "kernelspec": {
   "display_name": "OR",
   "language": "python",
   "name": "python3"
  },
  "language_info": {
   "codemirror_mode": {
    "name": "ipython",
    "version": 3
   },
   "file_extension": ".py",
   "mimetype": "text/x-python",
   "name": "python",
   "nbconvert_exporter": "python",
   "pygments_lexer": "ipython3",
   "version": "3.12.1"
  }
 },
 "nbformat": 4,
 "nbformat_minor": 2
}
